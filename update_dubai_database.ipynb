{
 "cells": [
  {
   "cell_type": "code",
   "execution_count": 14,
   "metadata": {},
   "outputs": [],
   "source": [
    "import pandas as pd\n",
    "import sqlite3\n",
    "\n",
    "path = r\"S:\\Warehouse dept\\Inventory control\\Reporting and dashboards\\Cycle Counting Posting DUBAI\\Cycle_Counting_DUBAI.xlsm\"\n",
    "df = pd.read_excel(path, 'Dubai')\n"
   ]
  },
  {
   "cell_type": "code",
   "execution_count": 16,
   "metadata": {},
   "outputs": [
    {
     "data": {
      "text/plain": [
       "5297"
      ]
     },
     "execution_count": 16,
     "metadata": {},
     "output_type": "execute_result"
    }
   ],
   "source": [
    "conn = sqlite3.connect('S:\\Warehouse dept\\Inventory control\\Reporting and dashboards\\Cycle Counting Posting DUBAI\\DUBAI\\DATABASE\\countings_dubai.db')\n",
    "df.to_sql('postings',conn, if_exists='replace')"
   ]
  }
 ],
 "metadata": {
  "kernelspec": {
   "display_name": "Python 3.10.4 ('report')",
   "language": "python",
   "name": "python3"
  },
  "language_info": {
   "codemirror_mode": {
    "name": "ipython",
    "version": 3
   },
   "file_extension": ".py",
   "mimetype": "text/x-python",
   "name": "python",
   "nbconvert_exporter": "python",
   "pygments_lexer": "ipython3",
   "version": "3.10.8 | packaged by conda-forge | (main, Nov  4 2022, 13:42:51) [MSC v.1916 64 bit (AMD64)]"
  },
  "orig_nbformat": 4,
  "vscode": {
   "interpreter": {
    "hash": "dcad3663fffb2cc384642c88b23dc01c946f03d12a112b70691c4c36d255dc94"
   }
  }
 },
 "nbformat": 4,
 "nbformat_minor": 2
}
